{
 "cells": [
  {
   "cell_type": "markdown",
   "metadata": {},
   "source": [
    "# 下载h5文件特征数据"
   ]
  },
  {
   "cell_type": "code",
   "execution_count": 1,
   "metadata": {},
   "outputs": [
    {
     "name": "stdout",
     "output_type": "stream",
     "text": [
      "(4784, 30)\n"
     ]
    }
   ],
   "source": [
    "import numpy as np\n",
    "import h5py\n",
    "from sklearn.preprocessing import MinMaxScaler\n",
    "from sklearn.model_selection import train_test_split\n",
    "from sklearn import metrics\n",
    "from sklearn.model_selection import cross_val_score\n",
    "from sklearn.ensemble import RandomForestClassifier\n",
    "from sklearn.svm import SVC\n",
    "\n",
    "with h5py.File('./DB3/DB3_S1_feature.h5', 'r') as f:\n",
    "    featureData = f['featureData'][:]\n",
    "    featureLabel = f['featureLabel'][:]\n",
    "\n",
    "featureData = MinMaxScaler().fit_transform(featureData) # 缩放到[0, 1]\n",
    "xTraining, xTesting, yTraining, yTesting = train_test_split(featureData, featureLabel, test_size=0.1)\n",
    "\n",
    "print(featureData.shape)"
   ]
  },
  {
   "cell_type": "markdown",
   "metadata": {},
   "source": [
    "# 原始数据训练 "
   ]
  },
  {
   "cell_type": "code",
   "execution_count": 2,
   "metadata": {},
   "outputs": [
    {
     "name": "stdout",
     "output_type": "stream",
     "text": [
      "RF train accuracy: 100.00%\n",
      "RF test accuracy: 89.56%\n",
      "training took 3.267540s!\n"
     ]
    }
   ],
   "source": [
    "import time\n",
    "\n",
    "start_time = time.time()\n",
    "RF = RandomForestClassifier(n_estimators=200, criterion='gini', max_depth=None,\n",
    "                            min_samples_split=2, min_samples_leaf=1,\n",
    "                            min_weight_fraction_leaf=0.0, max_features='auto',\n",
    "                            max_leaf_nodes=None, min_impurity_decrease=0.0,\n",
    "                            min_impurity_split=None, bootstrap=True, oob_score=True,\n",
    "                            n_jobs=1, random_state=None, verbose=0,\n",
    "                            warm_start=False, class_weight=None)\n",
    "\n",
    "RF.fit(xTraining, yTraining)\n",
    "score = RF.score(xTraining, yTraining)\n",
    "yPrediction = RF.predict(xTesting)\n",
    "accuracy = metrics.accuracy_score(yTesting, yPrediction)\n",
    "\n",
    "print('RF train accuracy: %.2f%%' % (100 * score))\n",
    "print('RF test accuracy: %.2f%%' % (100 * accuracy))\n",
    "print('training took %fs!' % (time.time() - start_time))"
   ]
  },
  {
   "cell_type": "code",
   "execution_count": 3,
   "metadata": {},
   "outputs": [
    {
     "name": "stdout",
     "output_type": "stream",
     "text": [
      "0.9407665505226481 0.9081419624217119\n"
     ]
    }
   ],
   "source": [
    "SVM = SVC(C=2, kernel='rbf', degree=3, gamma=2)\n",
    "SVM.fit(xTraining, yTraining)\n",
    "score = SVM.score(xTraining, yTraining)\n",
    "predict_SVM = SVM.predict(xTesting)\n",
    "accuracy_SVM = metrics.accuracy_score(yTesting, predict_SVM)\n",
    "print(score, accuracy_SVM)"
   ]
  },
  {
   "cell_type": "code",
   "execution_count": null,
   "metadata": {},
   "outputs": [],
   "source": []
  }
 ],
 "metadata": {
  "kernelspec": {
   "display_name": "Python 3",
   "language": "python",
   "name": "python3"
  },
  "language_info": {
   "codemirror_mode": {
    "name": "ipython",
    "version": 3
   },
   "file_extension": ".py",
   "mimetype": "text/x-python",
   "name": "python",
   "nbconvert_exporter": "python",
   "pygments_lexer": "ipython3",
   "version": "3.8.5"
  }
 },
 "nbformat": 4,
 "nbformat_minor": 2
}
